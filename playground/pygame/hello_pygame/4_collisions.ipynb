{
 "cells": [
  {
   "cell_type": "code",
   "execution_count": null,
   "source": [
    "import pygame\n",
    "from pygame.locals import *\n",
    "from sys import exit\n",
    "\n",
    "pygame.init()\n",
    "clock = pygame.time.Clock()"
   ],
   "outputs": [],
   "metadata": {}
  },
  {
   "cell_type": "code",
   "execution_count": null,
   "source": [
    "WIDTH: int = 640\n",
    "HEIGHT: int = 480\n",
    "SCREEN_SIZE: tuple = (WIDTH, HEIGHT)\n",
    "TITLE: str = \"Hello PyGame World!\"\n",
    "FIXED_FPS: int = 60\n",
    "\n",
    "screen = pygame.display.set_mode(SCREEN_SIZE)\n",
    "pygame.display.set_caption(TITLE)"
   ],
   "outputs": [],
   "metadata": {}
  },
  {
   "cell_type": "code",
   "execution_count": null,
   "source": [
    "# Other imports\n",
    "from numpy.linalg import norm\n",
    "from random import randint\n"
   ],
   "outputs": [],
   "metadata": {}
  },
  {
   "cell_type": "code",
   "execution_count": null,
   "source": [
    "class InputEvent:\n",
    "\n",
    "    def get_input_strength() -> list:\n",
    "        is_pressed = pygame.key.get_pressed()\n",
    "        keys: dict = {K_w: 0.0, K_a: 0.0, K_s: 0.0, K_d: 0.0}\n",
    "        strength: list\n",
    "\n",
    "        for key in keys:\n",
    "            keys[key] = 1.0 if is_pressed[key] else 0.0\n",
    "\n",
    "        strength = [keys[K_d] - keys[K_a], keys[K_s] - keys[K_w]]\n",
    "        strength_norm = norm(strength)\n",
    "\n",
    "        if strength_norm:\n",
    "            strength /= strength_norm\n",
    "\n",
    "        return strength\n"
   ],
   "outputs": [],
   "metadata": {}
  },
  {
   "cell_type": "code",
   "execution_count": null,
   "source": [
    "class Entity:\n",
    "    position: list\n",
    "    color: tuple = (115, 10, 46)\n",
    "\n",
    "    def _draw(self):\n",
    "        RECT_SIZE: int = 40\n",
    "        HALF_SIZE: int = RECT_SIZE // 2  # Desloca a âncora para o centro\n",
    "        RECT_TRANSFORM: tuple = (self.position[0] - HALF_SIZE,\n",
    "                                 self.position[1] - HALF_SIZE, RECT_SIZE, RECT_SIZE)\n",
    "\n",
    "        return pygame.draw.rect(screen, self.color, RECT_TRANSFORM)\n",
    "\n",
    "    def get_x(self) -> int:\n",
    "        return self.position[0]\n",
    "\n",
    "    def get_y(self) -> int:\n",
    "        return self.position[1]\n",
    "\n",
    "    def __init__(self, coords: tuple) -> None:\n",
    "        self.position = list(coords)\n"
   ],
   "outputs": [],
   "metadata": {}
  },
  {
   "cell_type": "code",
   "execution_count": null,
   "source": [
    "class KinematicBody(Entity):\n",
    "    speed: float = 1.0\n",
    "    velocity: list = [0.0, 0.0]\n",
    "\n",
    "    def move(self) -> None:\n",
    "\n",
    "        for i in range(2):\n",
    "            self.position[i] += self.velocity[i] * self.speed\n",
    "\n",
    "            if self.position[i] < 0.0:\n",
    "                self.position[i] = 0.0\n",
    "            elif self.position[i] > SCREEN_SIZE[i]:\n",
    "                self.position[i] = SCREEN_SIZE[i]\n",
    "\n",
    "    def _input(self) -> None:\n",
    "        self.velocity = InputEvent.get_input_strength()\n",
    "\n",
    "    # def _input_event(self, event: InputEvent) -> None:\n",
    "    #     pass\n",
    "\n",
    "    def __init__(self, coords: tuple, color=(46, 10, 115)) -> None:\n",
    "        super().__init__(coords)\n",
    "        self.color = color\n"
   ],
   "outputs": [],
   "metadata": {}
  },
  {
   "cell_type": "code",
   "execution_count": null,
   "source": [
    "body: KinematicBody = KinematicBody((WIDTH // 2, HEIGHT // 2))\n",
    "entity: Entity = Entity((randint(0, WIDTH), randint(0, HEIGHT)))\n",
    "COLOR_BLACK: tuple = (0, 0, 0)\n",
    "\n",
    "while True:\n",
    "    clock.tick(FIXED_FPS)\n",
    "    screen.fill(COLOR_BLACK)\n",
    "\n",
    "    for event in pygame.event.get():\n",
    "        if event.type == QUIT:\n",
    "            pygame.quit()\n",
    "            exit()\n",
    "\n",
    "#         if event.type == KEYDOWN:\n",
    "#             keys: list = [K_w, K_a, K_s, K_d]\n",
    "#\n",
    "#             for key in keys:\n",
    "#                 if event.key == key:\n",
    "#                     body._input_event(\n",
    "#                         InputEvent.InputTypes.JUST_PRESSED, key)\n",
    "\n",
    "    body._input()\n",
    "    body.move()\n",
    "    body_aabb = body._draw()\n",
    "    entity_aabb = entity._draw()\n",
    "    \n",
    "    if body_aabb.colliderect(entity_aabb):\n",
    "        entity.position = (randint(0, WIDTH), randint(0, HEIGHT))\n",
    "    \n",
    "    pygame.display.update()\n"
   ],
   "outputs": [],
   "metadata": {}
  }
 ],
 "metadata": {
  "orig_nbformat": 4,
  "language_info": {
   "name": "python",
   "version": "3.9.5",
   "mimetype": "text/x-python",
   "codemirror_mode": {
    "name": "ipython",
    "version": 3
   },
   "pygments_lexer": "ipython3",
   "nbconvert_exporter": "python",
   "file_extension": ".py"
  },
  "kernelspec": {
   "name": "python3",
   "display_name": "Python 3.9.5 64-bit"
  },
  "interpreter": {
   "hash": "916dbcbb3f70747c44a77c7bcd40155683ae19c65e1c03b4aa3499c5328201f1"
  }
 },
 "nbformat": 4,
 "nbformat_minor": 2
}