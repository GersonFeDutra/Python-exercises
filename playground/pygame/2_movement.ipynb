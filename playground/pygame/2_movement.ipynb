{
 "cells": [
  {
   "cell_type": "code",
   "execution_count": 1,
   "source": [
    "import pygame\n",
    "from pygame.locals import *\n",
    "from sys import exit\n",
    "\n",
    "pygame.init()\n",
    "clock = pygame.time.Clock()\n"
   ],
   "outputs": [
    {
     "output_type": "stream",
     "name": "stdout",
     "text": [
      "pygame 2.0.1 (SDL 2.0.14, Python 3.9.5)\n",
      "Hello from the pygame community. https://www.pygame.org/contribute.html\n"
     ]
    }
   ],
   "metadata": {}
  },
  {
   "cell_type": "code",
   "execution_count": 2,
   "source": [
    "WIDTH: int = 640\n",
    "HEIGHT: int = 480\n",
    "SCREEN_SIZE: tuple = (WIDTH, HEIGHT)\n",
    "TITLE: str = \"Hello PyGame World!\"\n",
    "FIXED_FPS: int = 60\n",
    "\n",
    "screen = pygame.display.set_mode(SCREEN_SIZE)\n",
    "pygame.display.set_caption(TITLE)\n"
   ],
   "outputs": [],
   "metadata": {}
  },
  {
   "cell_type": "code",
   "execution_count": 3,
   "source": [
    "class Entity:\n",
    "    x: float\n",
    "    y: float\n",
    "    speed: float = 1.0\n",
    "\n",
    "    def move(self) -> None:\n",
    "        self.y += self.speed\n",
    "\n",
    "        if self.y >= HEIGHT:\n",
    "            self.y = 0.0\n",
    "\n",
    "    def __init__(self, coords: tuple) -> None:\n",
    "        self.x = coords[0]\n",
    "        self.y = coords[1]\n"
   ],
   "outputs": [],
   "metadata": {}
  },
  {
   "cell_type": "code",
   "execution_count": 4,
   "source": [
    "def draw(x: int, y: int) -> None:\n",
    "    RECT_COLOR: tuple = (115, 10, 46)\n",
    "    RECT_SIZE: int = 40\n",
    "    HALF_SIZE: int = RECT_SIZE // 2  # Desloca para o centro\n",
    "    RECT_TRANSFORM: tuple = (x - HALF_SIZE, y, RECT_SIZE, RECT_SIZE)\n",
    "    pygame.draw.rect(screen, RECT_COLOR, RECT_TRANSFORM)\n"
   ],
   "outputs": [],
   "metadata": {}
  },
  {
   "cell_type": "code",
   "execution_count": null,
   "source": [
    "entity: Entity = Entity((WIDTH // 2, 0))\n",
    "COLOR_BLACK: tuple = (0, 0, 0)\n",
    "\n",
    "while True:\n",
    "    clock.tick(FIXED_FPS)\n",
    "    screen.fill(COLOR_BLACK)\n",
    "\n",
    "    for event in pygame.event.get():\n",
    "        if event.type == QUIT:\n",
    "            pygame.quit()\n",
    "            exit()\n",
    "\n",
    "    entity.move()\n",
    "    draw(entity.x, entity.y)\n",
    "    pygame.display.update()\n"
   ],
   "outputs": [],
   "metadata": {}
  }
 ],
 "metadata": {
  "orig_nbformat": 4,
  "language_info": {
   "name": "python",
   "version": "3.9.5",
   "mimetype": "text/x-python",
   "codemirror_mode": {
    "name": "ipython",
    "version": 3
   },
   "pygments_lexer": "ipython3",
   "nbconvert_exporter": "python",
   "file_extension": ".py"
  },
  "kernelspec": {
   "name": "python3",
   "display_name": "Python 3.9.5 64-bit"
  },
  "interpreter": {
   "hash": "916dbcbb3f70747c44a77c7bcd40155683ae19c65e1c03b4aa3499c5328201f1"
  }
 },
 "nbformat": 4,
 "nbformat_minor": 2
}