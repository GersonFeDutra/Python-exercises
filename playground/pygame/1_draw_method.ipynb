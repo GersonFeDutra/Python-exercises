{
 "cells": [
  {
   "cell_type": "code",
   "execution_count": null,
   "source": [
    "import pygame\n",
    "from pygame.locals import *\n",
    "from sys import exit\n",
    "\n",
    "pygame.init()\n"
   ],
   "outputs": [],
   "metadata": {}
  },
  {
   "cell_type": "code",
   "execution_count": null,
   "source": [
    "WIDTH: int = 640\n",
    "HEIGHT: int = 480\n",
    "SCREEN_SIZE: tuple = (WIDTH, HEIGHT)\n",
    "TITLE: str = \"Hello PyGame World!\"\n",
    "\n",
    "screen = pygame.display.set_mode(SCREEN_SIZE)\n",
    "pygame.display.set_caption(TITLE)\n"
   ],
   "outputs": [],
   "metadata": {}
  },
  {
   "cell_type": "code",
   "execution_count": null,
   "source": [
    "def draw() -> None:\n",
    "    RECT_COLOR: tuple = (115, 10, 46)\n",
    "    RECT_SIZE: int = 40\n",
    "    RECT_TRANSFORM: tuple = (WIDTH // 2, HEIGHT // 2, RECT_SIZE, RECT_SIZE)\n",
    "    pygame.draw.rect(screen, RECT_COLOR, RECT_TRANSFORM)\n",
    "    CIRCLE_COLOR: tuple = (0, 75, 220)\n",
    "    CIRCLE_POSITION: tuple = (200, 360)\n",
    "    CIRCLE_RADIUS: float = 40.0\n",
    "    pygame.draw.circle(screen, CIRCLE_COLOR, CIRCLE_POSITION, CIRCLE_RADIUS)\n",
    "    LINE_COLOR: tuple = (200, 125, 10)\n",
    "    LINE_START: tuple = (390, 0)\n",
    "    LINE_FINISH: tuple = (390, 600)\n",
    "    LINE_THICKNESS: int = 5\n",
    "    pygame.draw.line(screen, LINE_COLOR, LINE_START,\n",
    "                     LINE_FINISH, LINE_THICKNESS)\n"
   ],
   "outputs": [],
   "metadata": {}
  },
  {
   "cell_type": "code",
   "execution_count": null,
   "source": [
    "while True:\n",
    "    for event in pygame.event.get():\n",
    "        if event.type == QUIT:\n",
    "            pygame.quit()\n",
    "            exit()\n",
    "\n",
    "    draw()\n",
    "    pygame.display.update()\n"
   ],
   "outputs": [],
   "metadata": {}
  }
 ],
 "metadata": {
  "orig_nbformat": 4,
  "language_info": {
   "name": "python",
   "version": "3.9.5",
   "mimetype": "text/x-python",
   "codemirror_mode": {
    "name": "ipython",
    "version": 3
   },
   "pygments_lexer": "ipython3",
   "nbconvert_exporter": "python",
   "file_extension": ".py"
  },
  "kernelspec": {
   "name": "python3",
   "display_name": "Python 3.9.5 64-bit"
  },
  "interpreter": {
   "hash": "916dbcbb3f70747c44a77c7bcd40155683ae19c65e1c03b4aa3499c5328201f1"
  }
 },
 "nbformat": 4,
 "nbformat_minor": 2
}