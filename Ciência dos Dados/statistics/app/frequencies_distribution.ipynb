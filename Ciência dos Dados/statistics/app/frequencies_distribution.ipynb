{
 "cells": [
  {
   "cell_type": "code",
   "execution_count": 2,
   "metadata": {},
   "outputs": [
    {
     "data": {
      "text/plain": [
       "'1.26.4'"
      ]
     },
     "execution_count": 2,
     "metadata": {},
     "output_type": "execute_result"
    }
   ],
   "source": [
    "import numpy as np\n",
    "np.__version__"
   ]
  },
  {
   "cell_type": "code",
   "execution_count": 23,
   "metadata": {},
   "outputs": [
    {
     "data": {
      "text/plain": [
       "'2.2.2'"
      ]
     },
     "execution_count": 23,
     "metadata": {},
     "output_type": "execute_result"
    }
   ],
   "source": [
    "import pandas as pd\n",
    "pd.__version__"
   ]
  },
  {
   "cell_type": "code",
   "execution_count": 52,
   "metadata": {},
   "outputs": [],
   "source": [
    "def gradient_rgba(val, max_val, rgb=(0, 0, 255), alpha=0.4):\n",
    "    '''\n",
    "    Apply a semi-transparent gradient to the value based on the range [0, max_val].\n",
    "\n",
    "    @params:\n",
    "    val: The current value to apply the gradient.\n",
    "    max_val: The maximum value in the range.\n",
    "    rgb: The RGB color of the gradient.\n",
    "    alpha: The base-transparency of the gradient.\n",
    "    '''\n",
    "    r, g, b = rgb\n",
    "    intensity = val / max_val\n",
    "    return f'background-color: rgba({r}, {g}, {b}, {intensity * alpha})'"
   ]
  },
  {
   "cell_type": "markdown",
   "metadata": {},
   "source": [
    "### Simple Frequency-Distribution"
   ]
  },
  {
   "cell_type": "code",
   "execution_count": 7,
   "metadata": {},
   "outputs": [
    {
     "name": "stdout",
     "output_type": "stream",
     "text": [
      "raw: [1 4 5 2 1 2 5 3 2 3 3 1 2 2 1 3 5 4 2 1 2 3 2 4 4 2 1 3 4 2]\n",
      "rol: [1 1 1 1 1 1 2 2 2 2 2 2 2 2 2 2 3 3 3 3 3 3 4 4 4 4 4 5 5 5]\n"
     ]
    }
   ],
   "source": [
    "# Em um desafio, um programa deveria ter o mínimo de caracteres. 30 programadores participaram\n",
    "# do desafio. Foram registrados, aproximadamente, em milhares, as seguintes quantidades:\n",
    "raw = np.array([1, 4, 5, 2, 1, 2, 5, 3, 2, 3, 3, 1, 2, 2, 1, 3, 5, 4, 2, 1, 2, 3, 2, 4, 4, 2, 1, 3, 4, 2])\n",
    "rol = np.sort(raw)\n",
    "print('raw:', raw)\n",
    "print('rol:', rol)"
   ]
  },
  {
   "cell_type": "code",
   "execution_count": 25,
   "metadata": {},
   "outputs": [
    {
     "name": "stdout",
     "output_type": "stream",
     "text": [
      "f: [ 6 10  6  5  3]\n",
      "f%: [20.         33.33333333 20.         16.66666667 10.        ]\n",
      "F: [ 6 16 22 27 30]\n",
      "F%: [ 20.          53.33333333  73.33333333  90.         100.        ]\n"
     ]
    }
   ],
   "source": [
    "classes, f = np.unique(raw, return_counts=True) # f=frequencies [# of occurrences]\n",
    "f_r = f / f.sum()  # relative frequencies\n",
    "f_percent = f_r * 100\n",
    "F = np.add.accumulate(f) # F = cumulative frequencies\n",
    "F_percent = np.add.accumulate(f_percent)\n",
    "\n",
    "print('f:', f)\n",
    "print('f%:', f_percent)\n",
    "print('F:', F)\n",
    "print('F%:', F_percent)"
   ]
  },
  {
   "cell_type": "code",
   "execution_count": 54,
   "metadata": {},
   "outputs": [
    {
     "data": {
      "text/html": [
       "<style type=\"text/css\">\n",
       "#T_653d9_row0_col3, #T_653d9_row2_col3 {\n",
       "  background-color: rgba(0, 0, 255, 0.24000000000000005);\n",
       "}\n",
       "#T_653d9_row1_col3 {\n",
       "  background-color: rgba(0, 0, 255, 0.4);\n",
       "}\n",
       "#T_653d9_row3_col3 {\n",
       "  background-color: rgba(0, 0, 255, 0.2);\n",
       "}\n",
       "#T_653d9_row4_col3 {\n",
       "  background-color: rgba(0, 0, 255, 0.12000000000000002);\n",
       "}\n",
       "</style>\n",
       "<table id=\"T_653d9\">\n",
       "  <thead>\n",
       "    <tr>\n",
       "      <th id=\"T_653d9_level0_col0\" class=\"col_heading level0 col0\" >Class</th>\n",
       "      <th id=\"T_653d9_level0_col1\" class=\"col_heading level0 col1\" >f</th>\n",
       "      <th id=\"T_653d9_level0_col2\" class=\"col_heading level0 col2\" >Relative Frequency</th>\n",
       "      <th id=\"T_653d9_level0_col3\" class=\"col_heading level0 col3\" >Relative Frequency (%)</th>\n",
       "      <th id=\"T_653d9_level0_col4\" class=\"col_heading level0 col4\" >Cumulative Frequency</th>\n",
       "      <th id=\"T_653d9_level0_col5\" class=\"col_heading level0 col5\" >Cumulative Frequency (%)</th>\n",
       "    </tr>\n",
       "  </thead>\n",
       "  <tbody>\n",
       "    <tr>\n",
       "      <td id=\"T_653d9_row0_col0\" class=\"data row0 col0\" >1</td>\n",
       "      <td id=\"T_653d9_row0_col1\" class=\"data row0 col1\" >6</td>\n",
       "      <td id=\"T_653d9_row0_col2\" class=\"data row0 col2\" >0.2</td>\n",
       "      <td id=\"T_653d9_row0_col3\" class=\"data row0 col3\" >20.0%</td>\n",
       "      <td id=\"T_653d9_row0_col4\" class=\"data row0 col4\" >6</td>\n",
       "      <td id=\"T_653d9_row0_col5\" class=\"data row0 col5\" >20.000000</td>\n",
       "    </tr>\n",
       "    <tr>\n",
       "      <td id=\"T_653d9_row1_col0\" class=\"data row1 col0\" >2</td>\n",
       "      <td id=\"T_653d9_row1_col1\" class=\"data row1 col1\" >10</td>\n",
       "      <td id=\"T_653d9_row1_col2\" class=\"data row1 col2\" >0.3</td>\n",
       "      <td id=\"T_653d9_row1_col3\" class=\"data row1 col3\" >33.3%</td>\n",
       "      <td id=\"T_653d9_row1_col4\" class=\"data row1 col4\" >16</td>\n",
       "      <td id=\"T_653d9_row1_col5\" class=\"data row1 col5\" >53.333333</td>\n",
       "    </tr>\n",
       "    <tr>\n",
       "      <td id=\"T_653d9_row2_col0\" class=\"data row2 col0\" >3</td>\n",
       "      <td id=\"T_653d9_row2_col1\" class=\"data row2 col1\" >6</td>\n",
       "      <td id=\"T_653d9_row2_col2\" class=\"data row2 col2\" >0.2</td>\n",
       "      <td id=\"T_653d9_row2_col3\" class=\"data row2 col3\" >20.0%</td>\n",
       "      <td id=\"T_653d9_row2_col4\" class=\"data row2 col4\" >22</td>\n",
       "      <td id=\"T_653d9_row2_col5\" class=\"data row2 col5\" >73.333333</td>\n",
       "    </tr>\n",
       "    <tr>\n",
       "      <td id=\"T_653d9_row3_col0\" class=\"data row3 col0\" >4</td>\n",
       "      <td id=\"T_653d9_row3_col1\" class=\"data row3 col1\" >5</td>\n",
       "      <td id=\"T_653d9_row3_col2\" class=\"data row3 col2\" >0.2</td>\n",
       "      <td id=\"T_653d9_row3_col3\" class=\"data row3 col3\" >16.7%</td>\n",
       "      <td id=\"T_653d9_row3_col4\" class=\"data row3 col4\" >27</td>\n",
       "      <td id=\"T_653d9_row3_col5\" class=\"data row3 col5\" >90.000000</td>\n",
       "    </tr>\n",
       "    <tr>\n",
       "      <td id=\"T_653d9_row4_col0\" class=\"data row4 col0\" >5</td>\n",
       "      <td id=\"T_653d9_row4_col1\" class=\"data row4 col1\" >3</td>\n",
       "      <td id=\"T_653d9_row4_col2\" class=\"data row4 col2\" >0.1</td>\n",
       "      <td id=\"T_653d9_row4_col3\" class=\"data row4 col3\" >10.0%</td>\n",
       "      <td id=\"T_653d9_row4_col4\" class=\"data row4 col4\" >30</td>\n",
       "      <td id=\"T_653d9_row4_col5\" class=\"data row4 col5\" >100.000000</td>\n",
       "    </tr>\n",
       "  </tbody>\n",
       "</table>\n"
      ],
      "text/plain": [
       "<pandas.io.formats.style.Styler at 0x74018b767470>"
      ]
     },
     "execution_count": 54,
     "metadata": {},
     "output_type": "execute_result"
    }
   ],
   "source": [
    "# Create a DataFrame\n",
    "freq_table = pd.DataFrame({\n",
    "    \"Class\": classes,\n",
    "    \"f\": f,\n",
    "    \"Relative Frequency\": f_r,\n",
    "    \"Relative Frequency (%)\": f_percent,\n",
    "    \"Cumulative Frequency\": F,\n",
    "    \"Cumulative Frequency (%)\": F_percent\n",
    "})\n",
    "\n",
    "max_val = freq_table[\"Relative Frequency (%)\"].max()\n",
    "\n",
    "# Display the frequency table:\n",
    "(freq_table.style\n",
    "          .format({\"Relative Frequency\": \"{:.1f}\",\n",
    "                   \"Relative Frequency (%)\": \"{:.1f}%\"})  # 1 decimal for percentage\n",
    "          .map(lambda x: gradient_rgba(x, max_val), subset=[\"Relative Frequency (%)\"])  # color by value\n",
    "        .hide(axis=\"index\")  # Hide the index column\n",
    "    )"
   ]
  },
  {
   "cell_type": "markdown",
   "metadata": {},
   "source": [
    "### Interval Frequency-Distribution"
   ]
  },
  {
   "cell_type": "code",
   "execution_count": 97,
   "metadata": {},
   "outputs": [
    {
     "name": "stdout",
     "output_type": "stream",
     "text": [
      "raw: [2.1, 2.8, 3.3, 3.3, 4.4, 1.2, 3.1, 3.2, 1.1, 2.7, 2.5, 1.1, 2.9, 1.5, 1.4, 3.6, 2.6, 3.3, 4.2, 3.3, 2.4, 2.9, 1.3, 3.5, 2.0, 2.8, 2.8, 3.1, 2.7, 2.8, 2.8, 3.5, 3.5, 3.4, 2.4, 2.5, 2.7, 2.8, 2.3, 2.5]\n",
      "rol: [1.1 1.1 1.2 1.3 1.4 1.5 2.  2.1 2.3 2.4 2.4 2.5 2.5 2.5 2.6 2.7 2.7 2.7\n",
      " 2.8 2.8 2.8 2.8 2.8 2.8 2.9 2.9 3.1 3.1 3.2 3.3 3.3 3.3 3.3 3.4 3.5 3.5\n",
      " 3.5 3.6 4.2 4.4]\n"
     ]
    }
   ],
   "source": [
    "# Os dados a seguir referem-se ao clock (Hz) de 40 processadores observados em um estudo.\n",
    "raw = [\n",
    "    2.1, 2.8, 3.3, 3.3, 4.4, 1.2, 3.1, 3.2, 1.1, 2.7,\n",
    "    2.5, 1.1, 2.9, 1.5, 1.4, 3.6, 2.6, 3.3, 4.2, 3.3,\n",
    "    2.4, 2.9, 1.3, 3.5, 2.0, 2.8, 2.8, 3.1, 2.7, 2.8,\n",
    "    2.8, 3.5, 3.5, 3.4, 2.4, 2.5, 2.7, 2.8, 2.3, 2.5\n",
    "]\n",
    "rol = np.sort(raw)\n",
    "print('raw:', raw)\n",
    "print('rol:', rol)"
   ]
  },
  {
   "cell_type": "code",
   "execution_count": 98,
   "metadata": {},
   "outputs": [
    {
     "name": "stdout",
     "output_type": "stream",
     "text": [
      "Total Amplitude (variation) in [1.1, 4.4]: 3.3000000000000003\n",
      "#of classes: 7\n",
      "Interval for each class: 0.4714285714285715\n"
     ]
    }
   ],
   "source": [
    "LS = rol[-1] # Superior Limit\n",
    "LI = rol[0] # Inferior Limit\n",
    "AT = LS - LI # Total Amplitude\n",
    "k = np.sqrt(np.size(raw)).astype(np.int32) + 1 # Number of classes\n",
    "h = AT / k # Class amplitude\n",
    "\n",
    "print(f'Total Amplitude (variation) in [{LI}, {LS}]:', AT)\n",
    "print('#of classes:', k)\n",
    "print('Interval for each class:', h)"
   ]
  },
  {
   "cell_type": "code",
   "execution_count": 135,
   "metadata": {},
   "outputs": [
    {
     "name": "stdout",
     "output_type": "stream",
     "text": [
      "[ 6  1  7 12  8  4  2]\n"
     ]
    },
    {
     "data": {
      "text/plain": [
       "40"
      ]
     },
     "execution_count": 135,
     "metadata": {},
     "output_type": "execute_result"
    }
   ],
   "source": [
    "f = np.zeros(k, dtype=np.int32)\n",
    "for i in range(k):\n",
    "    l_i = LI + i * h       # Inferior limit\n",
    "    l_s = l_i + h          # Superior limit\n",
    "    x_m = (l_i + l_s) / 2  # midpoint\n",
    "    if i == k - 1:\n",
    "        # Last class\n",
    "        f[i] = np.sum((rol >= l_i) & (rol <= l_s))\n",
    "    else:\n",
    "        f[i] = np.sum((rol >= l_i) & (rol < l_s))\n",
    "print(f)\n",
    "f.sum()"
   ]
  },
  {
   "cell_type": "code",
   "execution_count": 136,
   "metadata": {},
   "outputs": [
    {
     "name": "stdout",
     "output_type": "stream",
     "text": [
      "f%: [15.   2.5 17.5 30.  20.  10.   5. ]\n",
      "F: [ 6  7 14 26 34 38 40]\n",
      "F%: [ 15.   17.5  35.   65.   85.   95.  100. ]\n"
     ]
    }
   ],
   "source": [
    "f_r = f / f.sum()  # relative frequencies\n",
    "f_percent = f_r * 100\n",
    "F = np.add.accumulate(f) # F = cumulative frequencies\n",
    "F_percent = np.add.accumulate(f_percent)\n",
    "\n",
    "print('f%:', f_percent)\n",
    "print('F:', F)\n",
    "print('F%:', F_percent)"
   ]
  },
  {
   "cell_type": "code",
   "execution_count": 144,
   "metadata": {},
   "outputs": [
    {
     "data": {
      "text/plain": [
       "['1.10 ˫ 1.57',\n",
       " '1.57 ˫ 2.04',\n",
       " '2.04 ˫ 2.51',\n",
       " '2.51 ˫ 2.99',\n",
       " '2.99 ˫ 3.46',\n",
       " '3.46 ˫ 3.93',\n",
       " '3.93 ˫ 4.40']"
      ]
     },
     "execution_count": 144,
     "metadata": {},
     "output_type": "execute_result"
    }
   ],
   "source": [
    "limits = np.linspace(LI, LS, k + 1)\n",
    "\n",
    "#x_m = (limits[:-1] + limits[1:]) / 2  # Modo direto\n",
    "points = np.column_stack((limits[:-1], limits[1:]))\n",
    "x_m = points.mean(axis=1)\n",
    "\n",
    "# Formata cada par como string \"li,ls ˫ li,ls\"\n",
    "classes = [f\"{li:.2f} ˫ {ls:.2f}\" for li, ls in points]\n",
    "classes"
   ]
  },
  {
   "cell_type": "code",
   "execution_count": 162,
   "metadata": {},
   "outputs": [
    {
     "data": {
      "text/html": [
       "<style type=\"text/css\">\n",
       "#T_033fb_row0_col4 {\n",
       "  background-color: rgba(50, 20, 200, 0.2);\n",
       "}\n",
       "#T_033fb_row1_col4 {\n",
       "  background-color: rgba(50, 20, 200, 0.03333333333333333);\n",
       "}\n",
       "#T_033fb_row2_col4 {\n",
       "  background-color: rgba(50, 20, 200, 0.23333333333333336);\n",
       "}\n",
       "#T_033fb_row3_col4 {\n",
       "  background-color: rgba(50, 20, 200, 0.4);\n",
       "}\n",
       "#T_033fb_row4_col4 {\n",
       "  background-color: rgba(50, 20, 200, 0.26666666666666666);\n",
       "}\n",
       "#T_033fb_row5_col4 {\n",
       "  background-color: rgba(50, 20, 200, 0.13333333333333333);\n",
       "}\n",
       "#T_033fb_row6_col4 {\n",
       "  background-color: rgba(50, 20, 200, 0.06666666666666667);\n",
       "}\n",
       "#T_033fb_row7_col0, #T_033fb_row7_col1, #T_033fb_row7_col2, #T_033fb_row7_col3, #T_033fb_row7_col4, #T_033fb_row7_col5, #T_033fb_row7_col6 {\n",
       "  font-weight: bold;\n",
       "}\n",
       "</style>\n",
       "<table id=\"T_033fb\">\n",
       "  <thead>\n",
       "    <tr>\n",
       "      <th id=\"T_033fb_level0_col0\" class=\"col_heading level0 col0\" >Class</th>\n",
       "      <th id=\"T_033fb_level0_col1\" class=\"col_heading level0 col1\" >f</th>\n",
       "      <th id=\"T_033fb_level0_col2\" class=\"col_heading level0 col2\" >Midpoint</th>\n",
       "      <th id=\"T_033fb_level0_col3\" class=\"col_heading level0 col3\" >Relative Frequency</th>\n",
       "      <th id=\"T_033fb_level0_col4\" class=\"col_heading level0 col4\" >Relative Frequency (%)</th>\n",
       "      <th id=\"T_033fb_level0_col5\" class=\"col_heading level0 col5\" >Cumulative Frequency</th>\n",
       "      <th id=\"T_033fb_level0_col6\" class=\"col_heading level0 col6\" >Cumulative Frequency (%)</th>\n",
       "    </tr>\n",
       "  </thead>\n",
       "  <tbody>\n",
       "    <tr>\n",
       "      <td id=\"T_033fb_row0_col0\" class=\"data row0 col0\" >1.10 ˫ 1.57</td>\n",
       "      <td id=\"T_033fb_row0_col1\" class=\"data row0 col1\" >6</td>\n",
       "      <td id=\"T_033fb_row0_col2\" class=\"data row0 col2\" >1.34</td>\n",
       "      <td id=\"T_033fb_row0_col3\" class=\"data row0 col3\" >0.150</td>\n",
       "      <td id=\"T_033fb_row0_col4\" class=\"data row0 col4\" >15.0%</td>\n",
       "      <td id=\"T_033fb_row0_col5\" class=\"data row0 col5\" >6</td>\n",
       "      <td id=\"T_033fb_row0_col6\" class=\"data row0 col6\" >15.0</td>\n",
       "    </tr>\n",
       "    <tr>\n",
       "      <td id=\"T_033fb_row1_col0\" class=\"data row1 col0\" >1.57 ˫ 2.04</td>\n",
       "      <td id=\"T_033fb_row1_col1\" class=\"data row1 col1\" >1</td>\n",
       "      <td id=\"T_033fb_row1_col2\" class=\"data row1 col2\" >1.81</td>\n",
       "      <td id=\"T_033fb_row1_col3\" class=\"data row1 col3\" >0.025</td>\n",
       "      <td id=\"T_033fb_row1_col4\" class=\"data row1 col4\" >2.5%</td>\n",
       "      <td id=\"T_033fb_row1_col5\" class=\"data row1 col5\" >7</td>\n",
       "      <td id=\"T_033fb_row1_col6\" class=\"data row1 col6\" >17.5</td>\n",
       "    </tr>\n",
       "    <tr>\n",
       "      <td id=\"T_033fb_row2_col0\" class=\"data row2 col0\" >2.04 ˫ 2.51</td>\n",
       "      <td id=\"T_033fb_row2_col1\" class=\"data row2 col1\" >7</td>\n",
       "      <td id=\"T_033fb_row2_col2\" class=\"data row2 col2\" >2.28</td>\n",
       "      <td id=\"T_033fb_row2_col3\" class=\"data row2 col3\" >0.175</td>\n",
       "      <td id=\"T_033fb_row2_col4\" class=\"data row2 col4\" >17.5%</td>\n",
       "      <td id=\"T_033fb_row2_col5\" class=\"data row2 col5\" >14</td>\n",
       "      <td id=\"T_033fb_row2_col6\" class=\"data row2 col6\" >35.0</td>\n",
       "    </tr>\n",
       "    <tr>\n",
       "      <td id=\"T_033fb_row3_col0\" class=\"data row3 col0\" >2.51 ˫ 2.99</td>\n",
       "      <td id=\"T_033fb_row3_col1\" class=\"data row3 col1\" >12</td>\n",
       "      <td id=\"T_033fb_row3_col2\" class=\"data row3 col2\" >2.75</td>\n",
       "      <td id=\"T_033fb_row3_col3\" class=\"data row3 col3\" >0.300</td>\n",
       "      <td id=\"T_033fb_row3_col4\" class=\"data row3 col4\" >30.0%</td>\n",
       "      <td id=\"T_033fb_row3_col5\" class=\"data row3 col5\" >26</td>\n",
       "      <td id=\"T_033fb_row3_col6\" class=\"data row3 col6\" >65.0</td>\n",
       "    </tr>\n",
       "    <tr>\n",
       "      <td id=\"T_033fb_row4_col0\" class=\"data row4 col0\" >2.99 ˫ 3.46</td>\n",
       "      <td id=\"T_033fb_row4_col1\" class=\"data row4 col1\" >8</td>\n",
       "      <td id=\"T_033fb_row4_col2\" class=\"data row4 col2\" >3.22</td>\n",
       "      <td id=\"T_033fb_row4_col3\" class=\"data row4 col3\" >0.200</td>\n",
       "      <td id=\"T_033fb_row4_col4\" class=\"data row4 col4\" >20.0%</td>\n",
       "      <td id=\"T_033fb_row4_col5\" class=\"data row4 col5\" >34</td>\n",
       "      <td id=\"T_033fb_row4_col6\" class=\"data row4 col6\" >85.0</td>\n",
       "    </tr>\n",
       "    <tr>\n",
       "      <td id=\"T_033fb_row5_col0\" class=\"data row5 col0\" >3.46 ˫ 3.93</td>\n",
       "      <td id=\"T_033fb_row5_col1\" class=\"data row5 col1\" >4</td>\n",
       "      <td id=\"T_033fb_row5_col2\" class=\"data row5 col2\" >3.69</td>\n",
       "      <td id=\"T_033fb_row5_col3\" class=\"data row5 col3\" >0.100</td>\n",
       "      <td id=\"T_033fb_row5_col4\" class=\"data row5 col4\" >10.0%</td>\n",
       "      <td id=\"T_033fb_row5_col5\" class=\"data row5 col5\" >38</td>\n",
       "      <td id=\"T_033fb_row5_col6\" class=\"data row5 col6\" >95.0</td>\n",
       "    </tr>\n",
       "    <tr>\n",
       "      <td id=\"T_033fb_row6_col0\" class=\"data row6 col0\" >3.93 ˫ 4.40</td>\n",
       "      <td id=\"T_033fb_row6_col1\" class=\"data row6 col1\" >2</td>\n",
       "      <td id=\"T_033fb_row6_col2\" class=\"data row6 col2\" >4.16</td>\n",
       "      <td id=\"T_033fb_row6_col3\" class=\"data row6 col3\" >0.050</td>\n",
       "      <td id=\"T_033fb_row6_col4\" class=\"data row6 col4\" >5.0%</td>\n",
       "      <td id=\"T_033fb_row6_col5\" class=\"data row6 col5\" >40</td>\n",
       "      <td id=\"T_033fb_row6_col6\" class=\"data row6 col6\" >100.0</td>\n",
       "    </tr>\n",
       "    <tr>\n",
       "      <td id=\"T_033fb_row7_col0\" class=\"data row7 col0\" >Total</td>\n",
       "      <td id=\"T_033fb_row7_col1\" class=\"data row7 col1\" >40</td>\n",
       "      <td id=\"T_033fb_row7_col2\" class=\"data row7 col2\" >-</td>\n",
       "      <td id=\"T_033fb_row7_col3\" class=\"data row7 col3\" >1.000</td>\n",
       "      <td id=\"T_033fb_row7_col4\" class=\"data row7 col4\" >100.0%</td>\n",
       "      <td id=\"T_033fb_row7_col5\" class=\"data row7 col5\" >-</td>\n",
       "      <td id=\"T_033fb_row7_col6\" class=\"data row7 col6\" >-</td>\n",
       "    </tr>\n",
       "  </tbody>\n",
       "</table>\n"
      ],
      "text/plain": [
       "<pandas.io.formats.style.Styler at 0x74018b23c200>"
      ]
     },
     "execution_count": 162,
     "metadata": {},
     "output_type": "execute_result"
    }
   ],
   "source": [
    "# Create a DataFrame\n",
    "freq_table = pd.DataFrame({\n",
    "        \"Class\": classes,\n",
    "        \"f\": f,\n",
    "        \"Midpoint\": x_m,\n",
    "        \"Relative Frequency\": f_r,\n",
    "        \"Relative Frequency (%)\": f_percent,\n",
    "        \"Cumulative Frequency\": F,\n",
    "        \"Cumulative Frequency (%)\": F_percent\n",
    "    })\n",
    "\n",
    "freq_table_total = pd.concat([\n",
    "    freq_table,\n",
    "    pd.DataFrame({\n",
    "        \"Class\": [\"Total\"],\n",
    "        \"f\": [f.sum()],\n",
    "        \"Midpoint\": [np.nan],\n",
    "        \"Relative Frequency\": [np.sum(f_r)],\n",
    "        \"Relative Frequency (%)\": [np.sum(f_percent)],\n",
    "        \"Cumulative Frequency\": [np.nan],\n",
    "        \"Cumulative Frequency (%)\": [np.nan]\n",
    "    })\n",
    "], ignore_index=True)\n",
    "\n",
    "# Get max for gradient\n",
    "max_val = freq_table_total.loc[freq_table_total[\"Class\"] != \"Total\", \"Relative Frequency (%)\"].max()\n",
    "\n",
    "# Style and display the frequency table\n",
    "(\n",
    "freq_table_total.style\n",
    "    .format({\n",
    "        \"Midpoint\":  lambda v: \"-\" if pd.isna(v) else f\"{v:.2f}\",\n",
    "        \"Relative Frequency\": \"{:.3f}\",\n",
    "        \"Relative Frequency (%)\": \"{:.1f}%\",\n",
    "        \"Cumulative Frequency\": lambda v: \"-\" if pd.isna(v) else f\"{v:.0f}\",\n",
    "        \"Cumulative Frequency (%)\": lambda v: \"-\" if pd.isna(v) else f\"{v:.1f}\",\n",
    "    })\n",
    "    # Color gradient only for non-total rows\n",
    "    .map(lambda x: (\n",
    "        \"\" if pd.isna(x) or x == freq_table_total.loc[freq_table_total[\"Class\"]==\"Total\", \"Relative Frequency (%)\"].values[0]\n",
    "        else gradient_rgba(x, max_val, (50, 20, 200))\n",
    "    ), subset=[\"Relative Frequency (%)\"])\n",
    "    # Bold total row\n",
    "    .apply(lambda row: [\"font-weight: bold;\" if row[\"Class\"] == \"Total\" else \"\" for _ in row], axis=1)   # color by value\n",
    "    .hide(axis=\"index\")  # Hide the index column\n",
    ")\n"
   ]
  }
 ],
 "metadata": {
  "kernelspec": {
   "display_name": "Python 3 (ipykernel)",
   "language": "python",
   "name": "python3"
  },
  "language_info": {
   "codemirror_mode": {
    "name": "ipython",
    "version": 3
   },
   "file_extension": ".py",
   "mimetype": "text/x-python",
   "name": "python",
   "nbconvert_exporter": "python",
   "pygments_lexer": "ipython3",
   "version": "3.12.7"
  }
 },
 "nbformat": 4,
 "nbformat_minor": 2
}
